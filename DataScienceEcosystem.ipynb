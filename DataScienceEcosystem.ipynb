{
 "cells": [
  {
   "cell_type": "markdown",
   "id": "fb1a97c5-92cc-4429-b62c-93d31a34ff35",
   "metadata": {},
   "source": [
    "# Data Science Tools and Ecosystem"
   ]
  },
  {
   "cell_type": "markdown",
   "id": "b1b84cfe-1962-468c-a6d6-0dc7b1f3a7f6",
   "metadata": {},
   "source": [
    "In this notebook,Data Science Tools and Ecosystem are summarized."
   ]
  },
  {
   "cell_type": "markdown",
   "id": "a31e563d-577a-45b3-b9ae-6e1252d8c85b",
   "metadata": {},
   "source": [
    "Some of the popular languages that Data Scientists use are:\n",
    "1. Python\n",
    "2. R\n",
    "3. Java"
   ]
  },
  {
   "cell_type": "markdown",
   "id": "3eef93ef-1b5d-44aa-9650-7a3b6759cfb8",
   "metadata": {},
   "source": [
    "Some of the commonly used libraries used by Data Scientists include:\n",
    "1. NumPy\n",
    "2. Pandas\n",
    "3. Matplotlib\n"
   ]
  },
  {
   "cell_type": "markdown",
   "id": "fbdb4fd1-6caa-4d73-bd7d-23ee225d21e9",
   "metadata": {
    "tags": []
   },
   "source": [
    "| Data Science Tools | \n",
    "| ------  | \n",
    "| Apache Spark |\n",
    "| Tensorflow |\n",
    "| Tableau |\n"
   ]
  },
  {
   "cell_type": "markdown",
   "id": "15e68e93-4226-42d8-a5be-80d3d69ef4dd",
   "metadata": {},
   "source": [
    "### Below are a few examples of evaluating arithmetic expressions in Python"
   ]
  },
  {
   "cell_type": "code",
   "execution_count": 2,
   "id": "ddedbf1f-6160-4e9c-b42b-0769d977fb28",
   "metadata": {
    "tags": []
   },
   "outputs": [
    {
     "data": {
      "text/plain": [
       "17"
      ]
     },
     "execution_count": 2,
     "metadata": {},
     "output_type": "execute_result"
    }
   ],
   "source": [
    "# This a simple arithmetic expression to mutiply then add integers\n",
    "(3*4)+5"
   ]
  },
  {
   "cell_type": "code",
   "execution_count": 4,
   "id": "34427c76-7b60-4b39-803a-a6fac890fa7e",
   "metadata": {
    "tags": []
   },
   "outputs": [
    {
     "data": {
      "text/plain": [
       "3.3333333333333335"
      ]
     },
     "execution_count": 4,
     "metadata": {},
     "output_type": "execute_result"
    }
   ],
   "source": [
    "# This will convert 200 minutes to hours by diving by 60\n",
    "200/60"
   ]
  },
  {
   "cell_type": "markdown",
   "id": "fe1f2acc-b99a-4fdf-a41a-9452d96c9623",
   "metadata": {},
   "source": [
    "**Objectives:List popular languages for data science**"
   ]
  },
  {
   "cell_type": "markdown",
   "id": "34d67fbd-aa3e-454e-8292-1655f6bc682e",
   "metadata": {},
   "source": [
    "- Python\n",
    "- R\n",
    "- SQL\n"
   ]
  },
  {
   "cell_type": "markdown",
   "id": "4f5fc6a6-ec7d-4f8b-83ef-517395f05114",
   "metadata": {},
   "source": [
    "## Author : \n",
    "Barsha\n"
   ]
  },
  {
   "cell_type": "code",
   "execution_count": null,
   "id": "28101634-c5b0-48ad-9d1b-9d21d934d8d2",
   "metadata": {},
   "outputs": [],
   "source": []
  }
 ],
 "metadata": {
  "kernelspec": {
   "display_name": "Python",
   "language": "python",
   "name": "conda-env-python-py"
  },
  "language_info": {
   "codemirror_mode": {
    "name": "ipython",
    "version": 3
   },
   "file_extension": ".py",
   "mimetype": "text/x-python",
   "name": "python",
   "nbconvert_exporter": "python",
   "pygments_lexer": "ipython3",
   "version": "3.7.12"
  }
 },
 "nbformat": 4,
 "nbformat_minor": 5
}
